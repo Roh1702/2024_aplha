{
  "nbformat": 4,
  "nbformat_minor": 0,
  "metadata": {
    "colab": {
      "provenance": [],
      "include_colab_link": true
    },
    "kernelspec": {
      "name": "python3",
      "display_name": "Python 3"
    },
    "language_info": {
      "name": "python"
    }
  },
  "cells": [
    {
      "cell_type": "markdown",
      "metadata": {
        "id": "view-in-github",
        "colab_type": "text"
      },
      "source": [
        "<a href=\"https://colab.research.google.com/github/Roh1702/2024_aplha/blob/main/aplha_0.ipynb\" target=\"_parent\"><img src=\"https://colab.research.google.com/assets/colab-badge.svg\" alt=\"Open In Colab\"/></a>"
      ]
    },
    {
      "cell_type": "code",
      "execution_count": null,
      "metadata": {
        "id": "Zf7dzIDuIYoy",
        "colab": {
          "base_uri": "https://localhost:8080/"
        },
        "outputId": "653af153-723c-4a0e-b89c-e6d7e6450eb1"
      },
      "outputs": [
        {
          "output_type": "stream",
          "name": "stdout",
          "text": [
            "acd\n"
          ]
        }
      ],
      "source": [
        "print('acd')"
      ]
    },
    {
      "cell_type": "code",
      "source": [
        "print('asdfvnbasdfdg')"
      ],
      "metadata": {
        "id": "K2Wg2FzsLBWI"
      },
      "execution_count": null,
      "outputs": []
    }
  ]
}